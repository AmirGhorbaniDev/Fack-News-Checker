{
 "cells": [
  {
   "cell_type": "code",
   "execution_count": 1,
   "metadata": {},
   "outputs": [],
   "source": [
    "import pandas as pd\n",
    "import numpy as np"
   ]
  },
  {
   "cell_type": "code",
   "execution_count": 12,
   "metadata": {},
   "outputs": [],
   "source": [
    "data = pd.read_csv('/Users/amir/Desktop/Projects/Fakenews/Fack-News-Checker/Dataset/evaluation.csv', sep=';')"
   ]
  },
  {
   "cell_type": "code",
   "execution_count": 13,
   "metadata": {},
   "outputs": [
    {
     "data": {
      "text/html": [
       "<div>\n",
       "<style scoped>\n",
       "    .dataframe tbody tr th:only-of-type {\n",
       "        vertical-align: middle;\n",
       "    }\n",
       "\n",
       "    .dataframe tbody tr th {\n",
       "        vertical-align: top;\n",
       "    }\n",
       "\n",
       "    .dataframe thead th {\n",
       "        text-align: right;\n",
       "    }\n",
       "</style>\n",
       "<table border=\"1\" class=\"dataframe\">\n",
       "  <thead>\n",
       "    <tr style=\"text-align: right;\">\n",
       "      <th></th>\n",
       "      <th>Unnamed: 0</th>\n",
       "      <th>title</th>\n",
       "      <th>text</th>\n",
       "      <th>label</th>\n",
       "    </tr>\n",
       "  </thead>\n",
       "  <tbody>\n",
       "    <tr>\n",
       "      <th>0</th>\n",
       "      <td>0</td>\n",
       "      <td>Sanders back in U.S. Senate, blasts 'coloniali...</td>\n",
       "      <td>WASHINGTON (Reuters) - Democratic U.S. preside...</td>\n",
       "      <td>1</td>\n",
       "    </tr>\n",
       "    <tr>\n",
       "      <th>1</th>\n",
       "      <td>1</td>\n",
       "      <td>Kremlin: Syria peoples' congress being 'active...</td>\n",
       "      <td>MOSCOW (Reuters) - A proposal to convene a con...</td>\n",
       "      <td>1</td>\n",
       "    </tr>\n",
       "    <tr>\n",
       "      <th>2</th>\n",
       "      <td>2</td>\n",
       "      <td>Oregon Cop Convicted Of Shattering Biker’s Co...</td>\n",
       "      <td>In a baffling fit of rage, an Oregon State Pol...</td>\n",
       "      <td>0</td>\n",
       "    </tr>\n",
       "    <tr>\n",
       "      <th>3</th>\n",
       "      <td>3</td>\n",
       "      <td>Twitter Erupts With Glee Over #CruzSexScandal...</td>\n",
       "      <td>The last thing any politician running for the ...</td>\n",
       "      <td>0</td>\n",
       "    </tr>\n",
       "    <tr>\n",
       "      <th>4</th>\n",
       "      <td>4</td>\n",
       "      <td>MUST WATCH VIDEO: Obama Tries To Trash Trump B...</td>\n",
       "      <td>This is too good to miss! Mr. Teleprompter did...</td>\n",
       "      <td>0</td>\n",
       "    </tr>\n",
       "  </tbody>\n",
       "</table>\n",
       "</div>"
      ],
      "text/plain": [
       "   Unnamed: 0                                              title  \\\n",
       "0           0  Sanders back in U.S. Senate, blasts 'coloniali...   \n",
       "1           1  Kremlin: Syria peoples' congress being 'active...   \n",
       "2           2   Oregon Cop Convicted Of Shattering Biker’s Co...   \n",
       "3           3   Twitter Erupts With Glee Over #CruzSexScandal...   \n",
       "4           4  MUST WATCH VIDEO: Obama Tries To Trash Trump B...   \n",
       "\n",
       "                                                text  label  \n",
       "0  WASHINGTON (Reuters) - Democratic U.S. preside...      1  \n",
       "1  MOSCOW (Reuters) - A proposal to convene a con...      1  \n",
       "2  In a baffling fit of rage, an Oregon State Pol...      0  \n",
       "3  The last thing any politician running for the ...      0  \n",
       "4  This is too good to miss! Mr. Teleprompter did...      0  "
      ]
     },
     "execution_count": 13,
     "metadata": {},
     "output_type": "execute_result"
    }
   ],
   "source": [
    "data.head()\n"
   ]
  },
  {
   "cell_type": "code",
   "execution_count": 18,
   "metadata": {},
   "outputs": [
    {
     "name": "stdout",
     "output_type": "stream",
     "text": [
      "<class 'pandas.core.frame.DataFrame'>\n",
      "RangeIndex: 8117 entries, 0 to 8116\n",
      "Data columns (total 4 columns):\n",
      " #   Column      Non-Null Count  Dtype \n",
      "---  ------      --------------  ----- \n",
      " 0   Unnamed: 0  8117 non-null   int64 \n",
      " 1   title       8117 non-null   object\n",
      " 2   text        8117 non-null   object\n",
      " 3   label       8117 non-null   int64 \n",
      "dtypes: int64(2), object(2)\n",
      "memory usage: 253.8+ KB\n"
     ]
    }
   ],
   "source": [
    "data.info()"
   ]
  },
  {
   "cell_type": "code",
   "execution_count": null,
   "metadata": {},
   "outputs": [],
   "source": []
  },
  {
   "cell_type": "code",
   "execution_count": null,
   "metadata": {},
   "outputs": [],
   "source": []
  }
 ],
 "metadata": {
  "kernelspec": {
   "display_name": "base",
   "language": "python",
   "name": "python3"
  },
  "language_info": {
   "codemirror_mode": {
    "name": "ipython",
    "version": 3
   },
   "file_extension": ".py",
   "mimetype": "text/x-python",
   "name": "python",
   "nbconvert_exporter": "python",
   "pygments_lexer": "ipython3",
   "version": "3.12.7"
  }
 },
 "nbformat": 4,
 "nbformat_minor": 2
}
